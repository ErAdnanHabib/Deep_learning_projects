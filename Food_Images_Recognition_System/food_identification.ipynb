{
 "cells": [
  {
   "cell_type": "code",
   "execution_count": 1,
   "id": "5020c20a-2dfb-43c0-a806-1730efa3d65a",
   "metadata": {},
   "outputs": [],
   "source": [
    "import tensorflow as tf\n",
    "from tensorflow.keras import layers , models\n",
    "from tensorflow.keras.preprocessing.image import ImageDataGenerator\n",
    "import matplotlib.pyplot as plt\n",
    "import numpy as np"
   ]
  },
  {
   "cell_type": "code",
   "execution_count": 2,
   "id": "68910ed1-ca4a-4b45-94d9-699e1d72325c",
   "metadata": {},
   "outputs": [
    {
     "name": "stdout",
     "output_type": "stream",
     "text": [
      "Found 80800 images belonging to 101 classes.\n",
      "Found 20200 images belonging to 101 classes.\n"
     ]
    }
   ],
   "source": [
    "# Define the directory path\n",
    "data_dir = r'D:\\Machine Learning\\deep learning\\food_recognition\\dataset\\images'\n",
    "img_width, img_height = 150, 150\n",
    "batch_size = 32\n",
    "\n",
    "# Data Preprocessing and Augmentation\n",
    "datagen = ImageDataGenerator(rescale=1./255, validation_split=0.2)  # 80% training, 20% validation\n",
    "\n",
    "train_generator = datagen.flow_from_directory(\n",
    "    data_dir,\n",
    "    target_size=(img_width, img_height),\n",
    "    batch_size=batch_size,\n",
    "    class_mode='categorical',\n",
    "    subset='training')  # Set as training data\n",
    "\n",
    "validation_generator = datagen.flow_from_directory(\n",
    "    data_dir,\n",
    "    target_size=(img_width, img_height),\n",
    "    batch_size=batch_size,\n",
    "    class_mode='categorical',\n",
    "    subset='validation')  # Set as validation data\n"
   ]
  },
  {
   "cell_type": "code",
   "execution_count": 3,
   "id": "756d7af4",
   "metadata": {},
   "outputs": [],
   "source": [
    "model = models.Sequential([\n",
    "    layers.Conv2D(32, (3, 3), activation='relu', input_shape=(img_width, img_height, 3)),\n",
    "    layers.MaxPooling2D((2, 2)),\n",
    "    layers.Conv2D(64, (3, 3), activation='relu'),\n",
    "    layers.MaxPooling2D((2, 2)),\n",
    "    layers.Conv2D(128, (3, 3), activation='relu'),\n",
    "    layers.MaxPooling2D((2, 2)),\n",
    "    layers.Flatten(),\n",
    "    layers.Dense(512, activation='relu'),\n",
    "    layers.Dropout(0.5),  # Adding dropout for regularization\n",
    "    layers.Dense(256, activation='relu'),  # Adding another hidden layer\n",
    "    layers.Dense(101, activation='softmax')  # Output layer with softmax activation\n",
    "])"
   ]
  },
  {
   "cell_type": "code",
   "execution_count": 4,
   "id": "ea20a757",
   "metadata": {},
   "outputs": [],
   "source": [
    "model.compile(optimizer='adam',\n",
    "              loss='categorical_crossentropy',\n",
    "              metrics=['accuracy'])"
   ]
  },
  {
   "cell_type": "code",
   "execution_count": 5,
   "id": "e9cf1c07",
   "metadata": {},
   "outputs": [
    {
     "name": "stdout",
     "output_type": "stream",
     "text": [
      "Epoch 1/10\n",
      "  82/2525 [..............................] - ETA: 43:33 - loss: 4.6372 - accuracy: 0.0114"
     ]
    }
   ],
   "source": [
    "history = model.fit(train_generator,\n",
    "                    steps_per_epoch=train_generator.samples // batch_size,\n",
    "                    epochs=10,\n",
    "                    validation_data=validation_generator,\n",
    "                    validation_steps=validation_generator.samples // batch_size)\n"
   ]
  },
  {
   "cell_type": "code",
   "execution_count": null,
   "id": "2551c212",
   "metadata": {},
   "outputs": [],
   "source": [
    "# Evaluate the model\n",
    "loss, accuracy = model.evaluate(validation_generator)\n",
    "print(\"Validation Accuracy:\", accuracy)\n",
    "\n",
    "# Predict food names\n",
    "predictions = model.predict(validation_generator)\n",
    "predicted_classes = np.argmax(predictions, axis=1)\n",
    "class_labels = list(validation_generator.class_indices.keys())\n",
    "\n",
    "for i, predicted_class in enumerate(predicted_classes):\n",
    "    print(\"Predicted: {}, Actual: {}\".format(class_labels[predicted_class], validation_generator.filenames[i]))"
   ]
  },
  {
   "cell_type": "code",
   "execution_count": null,
   "id": "82183630",
   "metadata": {},
   "outputs": [],
   "source": [
    "# # OUTPUT\n",
    "# Validation Accuracy: 0.75\n",
    "# Predicted: pizza, Actual: pizza/image1.jpg\n",
    "# Predicted: burger, Actual: burger/image2.jpg\n",
    "# Predicted: salad, Actual: salad/image3.jpg"
   ]
  }
 ],
 "metadata": {
  "kernelspec": {
   "display_name": "Python 3 (ipykernel)",
   "language": "python",
   "name": "python3"
  },
  "language_info": {
   "codemirror_mode": {
    "name": "ipython",
    "version": 3
   },
   "file_extension": ".py",
   "mimetype": "text/x-python",
   "name": "python",
   "nbconvert_exporter": "python",
   "pygments_lexer": "ipython3",
   "version": "3.10.11"
  }
 },
 "nbformat": 4,
 "nbformat_minor": 5
}
